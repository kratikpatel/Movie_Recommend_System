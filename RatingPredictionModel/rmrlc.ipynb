{
 "cells": [
  {
   "cell_type": "code",
   "execution_count": 1,
   "metadata": {
    "pycharm": {
     "name": "#%%\n"
    }
   },
   "outputs": [
    {
     "name": "stdout",
     "output_type": "stream",
     "text": [
      "Requirement already satisfied: recommenders in c:\\users\\hp\\appdata\\roaming\\python\\python37\\site-packages (1.1.0)\n",
      "Requirement already satisfied: requests<3,>=2.0.0 in c:\\users\\hp\\appdata\\roaming\\python\\python37\\site-packages (from recommenders) (2.22.0)\n",
      "Requirement already satisfied: cornac<2,>=1.1.2 in c:\\users\\hp\\anaconda3\\lib\\site-packages (from recommenders) (1.14.2)\n",
      "Requirement already satisfied: scipy<2,>=1.0.0 in c:\\users\\hp\\anaconda3\\lib\\site-packages (from recommenders) (1.3.1)\n",
      "Requirement already satisfied: transformers<5,>=2.5.0 in c:\\users\\hp\\anaconda3\\lib\\site-packages (from recommenders) (3.0.2)\n",
      "Requirement already satisfied: pyyaml<6,>=5.4.1 in c:\\users\\hp\\appdata\\roaming\\python\\python37\\site-packages (from recommenders) (5.4.1)\n",
      "Requirement already satisfied: retrying>=1.3.3 in c:\\users\\hp\\anaconda3\\lib\\site-packages (from recommenders) (1.3.3)\n",
      "Requirement already satisfied: category-encoders<2,>=1.3.0 in c:\\users\\hp\\appdata\\roaming\\python\\python37\\site-packages (from recommenders) (1.3.0)\n",
      "Requirement already satisfied: pandera[strategies]>=0.6.5 in c:\\users\\hp\\anaconda3\\lib\\site-packages (from recommenders) (0.9.0)\n",
      "Requirement already satisfied: pandas<2,>1.0.3 in c:\\users\\hp\\anaconda3\\lib\\site-packages (from recommenders) (1.3.5)\n",
      "Requirement already satisfied: scikit-learn<1.0.3,>=0.22.1 in c:\\users\\hp\\anaconda3\\lib\\site-packages (from recommenders) (1.0.2)\n",
      "Requirement already satisfied: matplotlib<4,>=2.2.2 in c:\\users\\hp\\anaconda3\\lib\\site-packages (from recommenders) (3.1.1)\n",
      "Requirement already satisfied: lightgbm>=2.2.1 in c:\\users\\hp\\anaconda3\\lib\\site-packages (from recommenders) (3.3.2)\n",
      "Requirement already satisfied: nltk<4,>=3.4 in c:\\users\\hp\\anaconda3\\lib\\site-packages (from recommenders) (3.4.5)\n",
      "Requirement already satisfied: bottleneck<2,>=1.2.1 in c:\\users\\hp\\anaconda3\\lib\\site-packages (from recommenders) (1.2.1)\n",
      "Requirement already satisfied: scikit-surprise>=1.0.6 in c:\\users\\hp\\anaconda3\\lib\\site-packages (from recommenders) (1.1.1)\n",
      "Requirement already satisfied: memory-profiler<1,>=0.54.0 in c:\\users\\hp\\anaconda3\\lib\\site-packages (from recommenders) (0.60.0)\n",
      "Requirement already satisfied: jinja2<3.1,>=2 in c:\\users\\hp\\anaconda3\\lib\\site-packages (from recommenders) (2.10.3)\n",
      "Requirement already satisfied: seaborn<1,>=0.8.1 in c:\\users\\hp\\anaconda3\\lib\\site-packages (from recommenders) (0.11.2)\n",
      "Requirement already satisfied: numpy>=1.19 in c:\\users\\hp\\anaconda3\\lib\\site-packages (from recommenders) (1.19.5)\n",
      "Requirement already satisfied: numba<1,>=0.38.1 in c:\\users\\hp\\anaconda3\\lib\\site-packages (from recommenders) (0.45.1)\n",
      "Requirement already satisfied: tqdm<5,>=4.31.1 in c:\\users\\hp\\anaconda3\\lib\\site-packages (from recommenders) (4.62.3)\n",
      "Requirement already satisfied: lightfm<2,>=1.15 in c:\\users\\hp\\anaconda3\\lib\\site-packages (from recommenders) (1.16)\n",
      "Requirement already satisfied: chardet<3.1.0,>=3.0.2 in c:\\users\\hp\\appdata\\roaming\\python\\python37\\site-packages (from requests<3,>=2.0.0->recommenders) (3.0.4)\n",
      "Requirement already satisfied: urllib3!=1.25.0,!=1.25.1,<1.26,>=1.21.1 in c:\\users\\hp\\anaconda3\\lib\\site-packages (from requests<3,>=2.0.0->recommenders) (1.25.11)\n",
      "Requirement already satisfied: idna<2.9,>=2.5 in c:\\users\\hp\\appdata\\roaming\\python\\python37\\site-packages (from requests<3,>=2.0.0->recommenders) (2.8)\n",
      "Requirement already satisfied: certifi>=2017.4.17 in c:\\users\\hp\\appdata\\roaming\\python\\python37\\site-packages (from requests<3,>=2.0.0->recommenders) (2019.9.11)\n",
      "Requirement already satisfied: powerlaw in c:\\users\\hp\\anaconda3\\lib\\site-packages (from cornac<2,>=1.1.2->recommenders) (1.5)\n",
      "Requirement already satisfied: sacremoses in c:\\users\\hp\\anaconda3\\lib\\site-packages (from transformers<5,>=2.5.0->recommenders) (0.0.43)\n",
      "Requirement already satisfied: regex!=2019.12.17 in c:\\users\\hp\\anaconda3\\lib\\site-packages (from transformers<5,>=2.5.0->recommenders) (2020.7.14)\n",
      "Requirement already satisfied: packaging in c:\\users\\hp\\appdata\\roaming\\python\\python37\\site-packages (from transformers<5,>=2.5.0->recommenders) (21.3)\n",
      "Requirement already satisfied: sentencepiece!=0.1.92 in c:\\users\\hp\\anaconda3\\lib\\site-packages (from transformers<5,>=2.5.0->recommenders) (0.1.91)\n",
      "Requirement already satisfied: tokenizers==0.8.1.rc1 in c:\\users\\hp\\anaconda3\\lib\\site-packages (from transformers<5,>=2.5.0->recommenders) (0.8.1rc1)\n",
      "Requirement already satisfied: filelock in c:\\users\\hp\\anaconda3\\lib\\site-packages (from transformers<5,>=2.5.0->recommenders) (3.0.12)\n",
      "Requirement already satisfied: six>=1.7.0 in c:\\users\\hp\\anaconda3\\lib\\site-packages (from retrying>=1.3.3->recommenders) (1.15.0)\n",
      "Requirement already satisfied: statsmodels>=0.6.1 in c:\\users\\hp\\appdata\\roaming\\python\\python37\\site-packages (from category-encoders<2,>=1.3.0->recommenders) (0.13.2)\n",
      "Requirement already satisfied: patsy>=0.4.1 in c:\\users\\hp\\anaconda3\\lib\\site-packages (from category-encoders<2,>=1.3.0->recommenders) (0.5.1)\n",
      "Requirement already satisfied: pydantic in c:\\users\\hp\\anaconda3\\lib\\site-packages (from pandera[strategies]>=0.6.5->recommenders) (1.9.0)\n",
      "Requirement already satisfied: typing-inspect>=0.6.0 in c:\\users\\hp\\anaconda3\\lib\\site-packages (from pandera[strategies]>=0.6.5->recommenders) (0.7.1)\n",
      "Requirement already satisfied: typing-extensions>=3.7.4.3; python_version < \"3.8\" in c:\\users\\hp\\anaconda3\\lib\\site-packages (from pandera[strategies]>=0.6.5->recommenders) (3.7.4.3)\n",
      "Requirement already satisfied: pyarrow in c:\\users\\hp\\anaconda3\\lib\\site-packages (from pandera[strategies]>=0.6.5->recommenders) (7.0.0)\n",
      "Requirement already satisfied: wrapt in c:\\users\\hp\\anaconda3\\lib\\site-packages (from pandera[strategies]>=0.6.5->recommenders) (1.12.1)\n",
      "Requirement already satisfied: hypothesis>=5.41.1; extra == \"strategies\" in c:\\users\\hp\\anaconda3\\lib\\site-packages (from pandera[strategies]>=0.6.5->recommenders) (6.43.2)\n",
      "Requirement already satisfied: pytz>=2017.3 in c:\\users\\hp\\anaconda3\\lib\\site-packages (from pandas<2,>1.0.3->recommenders) (2019.3)\n",
      "Requirement already satisfied: python-dateutil>=2.7.3 in c:\\users\\hp\\anaconda3\\lib\\site-packages (from pandas<2,>1.0.3->recommenders) (2.8.0)\n",
      "Requirement already satisfied: joblib>=0.11 in c:\\users\\hp\\anaconda3\\lib\\site-packages (from scikit-learn<1.0.3,>=0.22.1->recommenders) (0.13.2)\n",
      "Requirement already satisfied: threadpoolctl>=2.0.0 in c:\\users\\hp\\anaconda3\\lib\\site-packages (from scikit-learn<1.0.3,>=0.22.1->recommenders) (3.1.0)\n",
      "Requirement already satisfied: cycler>=0.10 in c:\\users\\hp\\anaconda3\\lib\\site-packages (from matplotlib<4,>=2.2.2->recommenders) (0.10.0)\n",
      "Requirement already satisfied: kiwisolver>=1.0.1 in c:\\users\\hp\\anaconda3\\lib\\site-packages (from matplotlib<4,>=2.2.2->recommenders) (1.1.0)\n",
      "Requirement already satisfied: pyparsing!=2.0.4,!=2.1.2,!=2.1.6,>=2.0.1 in c:\\users\\hp\\anaconda3\\lib\\site-packages (from matplotlib<4,>=2.2.2->recommenders) (2.4.2)\n",
      "Requirement already satisfied: wheel in c:\\users\\hp\\anaconda3\\lib\\site-packages (from lightgbm>=2.2.1->recommenders) (0.36.2)\n",
      "Requirement already satisfied: psutil in c:\\users\\hp\\anaconda3\\lib\\site-packages (from memory-profiler<1,>=0.54.0->recommenders) (5.6.3)\n",
      "Requirement already satisfied: MarkupSafe>=0.23 in c:\\users\\hp\\anaconda3\\lib\\site-packages (from jinja2<3.1,>=2->recommenders) (1.1.1)\n",
      "Requirement already satisfied: llvmlite>=0.29.0dev0 in c:\\users\\hp\\anaconda3\\lib\\site-packages (from numba<1,>=0.38.1->recommenders) (0.29.0)\n",
      "Requirement already satisfied: colorama; platform_system == \"Windows\" in c:\\users\\hp\\appdata\\roaming\\python\\python37\\site-packages (from tqdm<5,>=4.31.1->recommenders) (0.4.1)\n",
      "Requirement already satisfied: mpmath in c:\\users\\hp\\anaconda3\\lib\\site-packages (from powerlaw->cornac<2,>=1.1.2->recommenders) (1.1.0)\n",
      "Requirement already satisfied: click in c:\\users\\hp\\anaconda3\\lib\\site-packages (from sacremoses->transformers<5,>=2.5.0->recommenders) (7.0)\n",
      "Requirement already satisfied: mypy-extensions>=0.3.0 in c:\\users\\hp\\anaconda3\\lib\\site-packages (from typing-inspect>=0.6.0->pandera[strategies]>=0.6.5->recommenders) (0.4.3)\n",
      "Requirement already satisfied: sortedcontainers<3.0.0,>=2.1.0 in c:\\users\\hp\\anaconda3\\lib\\site-packages (from hypothesis>=5.41.1; extra == \"strategies\"->pandera[strategies]>=0.6.5->recommenders) (2.1.0)\n",
      "Requirement already satisfied: attrs>=19.2.0 in c:\\users\\hp\\anaconda3\\lib\\site-packages (from hypothesis>=5.41.1; extra == \"strategies\"->pandera[strategies]>=0.6.5->recommenders) (19.2.0)\n",
      "Requirement already satisfied: setuptools in c:\\users\\hp\\anaconda3\\lib\\site-packages (from kiwisolver>=1.0.1->matplotlib<4,>=2.2.2->recommenders) (41.4.0)\n"
     ]
    }
   ],
   "source": [
    "!pip install recommenders --user"
   ]
  },
  {
   "cell_type": "code",
   "execution_count": 2,
   "metadata": {
    "pycharm": {
     "name": "#%%\n"
    }
   },
   "outputs": [
    {
     "name": "stdout",
     "output_type": "stream",
     "text": [
      "Requirement already satisfied: pymanopt in c:\\users\\hp\\anaconda3\\lib\\site-packages (0.2.5)\n",
      "Requirement already satisfied: scipy in c:\\users\\hp\\anaconda3\\lib\\site-packages (from pymanopt) (1.3.1)\n",
      "Requirement already satisfied: numpy>=1.16 in c:\\users\\hp\\anaconda3\\lib\\site-packages (from pymanopt) (1.19.5)\n"
     ]
    }
   ],
   "source": [
    "!pip install pymanopt"
   ]
  },
  {
   "cell_type": "code",
   "execution_count": 3,
   "metadata": {
    "pycharm": {
     "name": "#%%\n"
    }
   },
   "outputs": [
    {
     "name": "stderr",
     "output_type": "stream",
     "text": [
      "C:\\Users\\hp\\Anaconda3\\lib\\site-packages\\dask\\dataframe\\utils.py:14: FutureWarning: pandas.util.testing is deprecated. Use the functions in the public API at pandas.testing instead.\n",
      "  import pandas.util.testing as tm\n"
     ]
    }
   ],
   "source": [
    "import numpy as np\n",
    "import sys\n",
    "import time\n",
    "import pandas as pd\n",
    "\n",
    "from recommenders.datasets.python_splitters import python_random_split\n",
    "from recommenders.datasets.python_splitters import python_stratified_split\n",
    "from recommenders.datasets import movielens\n",
    "from recommenders.models.rlrmc.RLRMCdataset import RLRMCdataset \n",
    "from recommenders.models.rlrmc.RLRMCalgorithm import RLRMCalgorithm \n",
    "# Pymanopt installation is required via\n",
    "# pip install pymanopt \n",
    "from recommenders.evaluation.python_evaluation import (\n",
    "    rmse, mae\n",
    ")"
   ]
  },
  {
   "cell_type": "code",
   "execution_count": 4,
   "metadata": {
    "pycharm": {
     "name": "#%%\n"
    }
   },
   "outputs": [],
   "source": [
    "rank_parameter = 10\n",
    "regularization_parameter = 0.001\n",
    "initialization_flag = 'svd'\n",
    "maximum_iteration = 100\n",
    "maximum_time = 300\n",
    "verbosity=0\n",
    "compute_iter_rmse=True"
   ]
  },
  {
   "cell_type": "code",
   "execution_count": 5,
   "metadata": {
    "pycharm": {
     "name": "#%%\n"
    }
   },
   "outputs": [
    {
     "data": {
      "text/html": [
       "<div>\n",
       "<style scoped>\n",
       "    .dataframe tbody tr th:only-of-type {\n",
       "        vertical-align: middle;\n",
       "    }\n",
       "\n",
       "    .dataframe tbody tr th {\n",
       "        vertical-align: top;\n",
       "    }\n",
       "\n",
       "    .dataframe thead th {\n",
       "        text-align: right;\n",
       "    }\n",
       "</style>\n",
       "<table border=\"1\" class=\"dataframe\">\n",
       "  <thead>\n",
       "    <tr style=\"text-align: right;\">\n",
       "      <th></th>\n",
       "      <th>userID</th>\n",
       "      <th>itemID</th>\n",
       "      <th>rating</th>\n",
       "      <th>timestamp</th>\n",
       "    </tr>\n",
       "  </thead>\n",
       "  <tbody>\n",
       "    <tr>\n",
       "      <th>0</th>\n",
       "      <td>1</td>\n",
       "      <td>1</td>\n",
       "      <td>4.0</td>\n",
       "      <td>964982703</td>\n",
       "    </tr>\n",
       "    <tr>\n",
       "      <th>1</th>\n",
       "      <td>1</td>\n",
       "      <td>3</td>\n",
       "      <td>4.0</td>\n",
       "      <td>964981247</td>\n",
       "    </tr>\n",
       "    <tr>\n",
       "      <th>2</th>\n",
       "      <td>1</td>\n",
       "      <td>6</td>\n",
       "      <td>4.0</td>\n",
       "      <td>964982224</td>\n",
       "    </tr>\n",
       "    <tr>\n",
       "      <th>3</th>\n",
       "      <td>1</td>\n",
       "      <td>47</td>\n",
       "      <td>5.0</td>\n",
       "      <td>964983815</td>\n",
       "    </tr>\n",
       "    <tr>\n",
       "      <th>4</th>\n",
       "      <td>1</td>\n",
       "      <td>50</td>\n",
       "      <td>5.0</td>\n",
       "      <td>964982931</td>\n",
       "    </tr>\n",
       "  </tbody>\n",
       "</table>\n",
       "</div>"
      ],
      "text/plain": [
       "   userID  itemID  rating  timestamp\n",
       "0       1       1     4.0  964982703\n",
       "1       1       3     4.0  964981247\n",
       "2       1       6     4.0  964982224\n",
       "3       1      47     5.0  964983815\n",
       "4       1      50     5.0  964982931"
      ]
     },
     "execution_count": 5,
     "metadata": {},
     "output_type": "execute_result"
    }
   ],
   "source": [
    "df = pd.read_csv('ratings.csv', sep=',', usecols=['userID', 'itemID', 'rating','timestamp'])\n",
    "df.head()"
   ]
  },
  {
   "cell_type": "code",
   "execution_count": 18,
   "metadata": {
    "pycharm": {
     "name": "#%%\n"
    }
   },
   "outputs": [],
   "source": [
    "train, test = python_random_split(df,[0.8, 0.2])"
   ]
  },
  {
   "cell_type": "code",
   "execution_count": 19,
   "metadata": {
    "pycharm": {
     "name": "#%%\n"
    }
   },
   "outputs": [],
   "source": [
    "data = RLRMCdataset(train=train, test=test)"
   ]
  },
  {
   "cell_type": "code",
   "execution_count": 20,
   "metadata": {
    "pycharm": {
     "name": "#%%\n"
    }
   },
   "outputs": [],
   "source": [
    "model = RLRMCalgorithm(rank = rank_parameter,\n",
    "                       C = regularization_parameter,\n",
    "                       model_param = data.model_param,\n",
    "                       initialize_flag = initialization_flag,\n",
    "                       maxiter=maximum_iteration,\n",
    "                       max_time=maximum_time)"
   ]
  },
  {
   "cell_type": "code",
   "execution_count": 21,
   "metadata": {
    "pycharm": {
     "name": "#%%\n"
    }
   },
   "outputs": [
    {
     "name": "stdout",
     "output_type": "stream",
     "text": [
      "Took 1.6222953796386719 seconds for training.\n"
     ]
    }
   ],
   "source": [
    "start_time = time.time()\n",
    "\n",
    "model.fit(data,verbosity=verbosity)\n",
    "\n",
    "# fit_and_evaluate will compute RMSE on the validation set (if given) at every iteration\n",
    "# model.fit_and_evaluate(data,verbosity=verbosity)\n",
    "\n",
    "train_time = time.time() - start_time # train_time includes both model initialization and model training time. \n",
    "\n",
    "print(\"Took {} seconds for training.\".format(train_time))"
   ]
  },
  {
   "cell_type": "code",
   "execution_count": 22,
   "metadata": {
    "pycharm": {
     "name": "#%%\n"
    }
   },
   "outputs": [],
   "source": [
    "predictions_ndarr = model.predict(test['userID'].values,test['itemID'].values)"
   ]
  },
  {
   "cell_type": "code",
   "execution_count": 23,
   "metadata": {
    "pycharm": {
     "name": "#%%\n"
    }
   },
   "outputs": [
    {
     "name": "stdout",
     "output_type": "stream",
     "text": [
      "RMSE:\t1.011215\n",
      "MAE:\t0.765671\n"
     ]
    }
   ],
   "source": [
    "predictions_df = pd.DataFrame(data={\"userID\": test['userID'].values, \"itemID\":test['itemID'].values, \"prediction\":predictions_ndarr})\n",
    "\n",
    "## Compute test RMSE \n",
    "eval_rmse = rmse(test, predictions_df)\n",
    "## Compute test MAE \n",
    "eval_mae = mae(test, predictions_df)\n",
    "\n",
    "print(\"RMSE:\\t%f\" % eval_rmse,\n",
    "      \"MAE:\\t%f\" % eval_mae, sep='\\n')"
   ]
  },
  {
   "cell_type": "code",
   "execution_count": null,
   "metadata": {
    "pycharm": {
     "name": "#%%\n"
    }
   },
   "outputs": [],
   "source": []
  }
 ],
 "metadata": {
  "kernelspec": {
   "display_name": "Python 3",
   "language": "python",
   "name": "python3"
  },
  "language_info": {
   "codemirror_mode": {
    "name": "ipython",
    "version": 3
   },
   "file_extension": ".py",
   "mimetype": "text/x-python",
   "name": "python",
   "nbconvert_exporter": "python",
   "pygments_lexer": "ipython3",
   "version": "3.7.4"
  }
 },
 "nbformat": 4,
 "nbformat_minor": 2
}