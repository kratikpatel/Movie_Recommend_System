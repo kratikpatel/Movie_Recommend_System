{
 "cells": [
  {
   "cell_type": "code",
   "execution_count": 1,
   "outputs": [
    {
     "name": "stdout",
     "output_type": "stream",
     "text": [
      ">> Installing Libraries\n",
      "Requirement already satisfied: pandas in c:\\users\\yueha\\appdata\\local\\packages\\pythonsoftwarefoundation.python.3.9_qbz5n2kfra8p0\\localcache\\local-packages\\python39\\site-packages (1.4.2)\n",
      "Requirement already satisfied: matplotlib in c:\\users\\yueha\\appdata\\local\\packages\\pythonsoftwarefoundation.python.3.9_qbz5n2kfra8p0\\localcache\\local-packages\\python39\\site-packages (3.5.1)\n",
      "Requirement already satisfied: numpy in c:\\users\\yueha\\appdata\\local\\packages\\pythonsoftwarefoundation.python.3.9_qbz5n2kfra8p0\\localcache\\local-packages\\python39\\site-packages (1.21.2)\n",
      "Requirement already satisfied: scikit-surprise in c:\\users\\yueha\\appdata\\local\\packages\\pythonsoftwarefoundation.python.3.9_qbz5n2kfra8p0\\localcache\\local-packages\\python39\\site-packages (1.1.1)\n",
      "Requirement already satisfied: pytz>=2020.1 in c:\\users\\yueha\\appdata\\local\\packages\\pythonsoftwarefoundation.python.3.9_qbz5n2kfra8p0\\localcache\\local-packages\\python39\\site-packages (from pandas) (2022.1)\n",
      "Requirement already satisfied: python-dateutil>=2.8.1 in c:\\users\\yueha\\appdata\\local\\packages\\pythonsoftwarefoundation.python.3.9_qbz5n2kfra8p0\\localcache\\local-packages\\python39\\site-packages (from pandas) (2.8.2)\n",
      "Requirement already satisfied: cycler>=0.10 in c:\\users\\yueha\\appdata\\local\\packages\\pythonsoftwarefoundation.python.3.9_qbz5n2kfra8p0\\localcache\\local-packages\\python39\\site-packages (from matplotlib) (0.11.0)\n",
      "Requirement already satisfied: fonttools>=4.22.0 in c:\\users\\yueha\\appdata\\local\\packages\\pythonsoftwarefoundation.python.3.9_qbz5n2kfra8p0\\localcache\\local-packages\\python39\\site-packages (from matplotlib) (4.32.0)\n",
      "Requirement already satisfied: packaging>=20.0 in c:\\users\\yueha\\appdata\\local\\packages\\pythonsoftwarefoundation.python.3.9_qbz5n2kfra8p0\\localcache\\local-packages\\python39\\site-packages (from matplotlib) (21.3)\n",
      "Requirement already satisfied: pillow>=6.2.0 in c:\\users\\yueha\\appdata\\local\\packages\\pythonsoftwarefoundation.python.3.9_qbz5n2kfra8p0\\localcache\\local-packages\\python39\\site-packages (from matplotlib) (9.1.0)\n",
      "Requirement already satisfied: pyparsing>=2.2.1 in c:\\users\\yueha\\appdata\\local\\packages\\pythonsoftwarefoundation.python.3.9_qbz5n2kfra8p0\\localcache\\local-packages\\python39\\site-packages (from matplotlib) (3.0.8)\n",
      "Requirement already satisfied: kiwisolver>=1.0.1 in c:\\users\\yueha\\appdata\\local\\packages\\pythonsoftwarefoundation.python.3.9_qbz5n2kfra8p0\\localcache\\local-packages\\python39\\site-packages (from matplotlib) (1.4.2)\n",
      "Requirement already satisfied: six>=1.10.0 in c:\\users\\yueha\\appdata\\local\\packages\\pythonsoftwarefoundation.python.3.9_qbz5n2kfra8p0\\localcache\\local-packages\\python39\\site-packages (from scikit-surprise) (1.16.0)\n",
      "Requirement already satisfied: scipy>=1.0.0 in c:\\users\\yueha\\appdata\\local\\packages\\pythonsoftwarefoundation.python.3.9_qbz5n2kfra8p0\\localcache\\local-packages\\python39\\site-packages (from scikit-surprise) (1.8.0)\n",
      "Requirement already satisfied: joblib>=0.11 in c:\\users\\yueha\\appdata\\local\\packages\\pythonsoftwarefoundation.python.3.9_qbz5n2kfra8p0\\localcache\\local-packages\\python39\\site-packages (from scikit-surprise) (1.1.0)\n",
      ">> Libraries Installed\n"
     ]
    }
   ],
   "source": [
    "print('>> Installing Libraries')\n",
    "\n",
    "!pip3 install pandas matplotlib numpy scikit-surprise\n",
    "\n",
    "print('>> Libraries Installed')"
   ],
   "metadata": {
    "collapsed": false,
    "pycharm": {
     "name": "#%%\n"
    }
   }
  },
  {
   "cell_type": "code",
   "execution_count": 2,
   "outputs": [
    {
     "name": "stdout",
     "output_type": "stream",
     "text": [
      ">> Importing Libraries\n",
      ">> Libraries imported.\n"
     ]
    }
   ],
   "source": [
    "\n",
    "\n",
    "import pandas as pd\n",
    "\n",
    "from surprise import Reader, Dataset, SVD\n",
    "\n",
    "from surprise.accuracy import rmse, mae\n",
    "from surprise.model_selection import cross_validate\n",
    "\n"
   ],
   "metadata": {
    "collapsed": false,
    "pycharm": {
     "name": "#%%\n"
    }
   }
  },
  {
   "cell_type": "code",
   "execution_count": 3,
   "outputs": [
    {
     "data": {
      "text/plain": "   userId  movieId  rating  timestamp\n0       1        1     4.0  964982703\n1       1        3     4.0  964981247\n2       1        6     4.0  964982224\n3       1       47     5.0  964983815\n4       1       50     5.0  964982931",
      "text/html": "<div>\n<style scoped>\n    .dataframe tbody tr th:only-of-type {\n        vertical-align: middle;\n    }\n\n    .dataframe tbody tr th {\n        vertical-align: top;\n    }\n\n    .dataframe thead th {\n        text-align: right;\n    }\n</style>\n<table border=\"1\" class=\"dataframe\">\n  <thead>\n    <tr style=\"text-align: right;\">\n      <th></th>\n      <th>userId</th>\n      <th>movieId</th>\n      <th>rating</th>\n      <th>timestamp</th>\n    </tr>\n  </thead>\n  <tbody>\n    <tr>\n      <th>0</th>\n      <td>1</td>\n      <td>1</td>\n      <td>4.0</td>\n      <td>964982703</td>\n    </tr>\n    <tr>\n      <th>1</th>\n      <td>1</td>\n      <td>3</td>\n      <td>4.0</td>\n      <td>964981247</td>\n    </tr>\n    <tr>\n      <th>2</th>\n      <td>1</td>\n      <td>6</td>\n      <td>4.0</td>\n      <td>964982224</td>\n    </tr>\n    <tr>\n      <th>3</th>\n      <td>1</td>\n      <td>47</td>\n      <td>5.0</td>\n      <td>964983815</td>\n    </tr>\n    <tr>\n      <th>4</th>\n      <td>1</td>\n      <td>50</td>\n      <td>5.0</td>\n      <td>964982931</td>\n    </tr>\n  </tbody>\n</table>\n</div>"
     },
     "execution_count": 3,
     "metadata": {},
     "output_type": "execute_result"
    }
   ],
   "source": [
    "df = pd.read_csv('D:/CS550Project/SmallData/ratings.csv')\n",
    "df.head()"
   ],
   "metadata": {
    "collapsed": false,
    "pycharm": {
     "name": "#%%\n"
    }
   }
  },
  {
   "cell_type": "code",
   "execution_count": 4,
   "outputs": [
    {
     "data": {
      "text/plain": "   userId  movieId  rating\n0       1        1     4.0\n1       1        3     4.0\n2       1        6     4.0\n3       1       47     5.0\n4       1       50     5.0",
      "text/html": "<div>\n<style scoped>\n    .dataframe tbody tr th:only-of-type {\n        vertical-align: middle;\n    }\n\n    .dataframe tbody tr th {\n        vertical-align: top;\n    }\n\n    .dataframe thead th {\n        text-align: right;\n    }\n</style>\n<table border=\"1\" class=\"dataframe\">\n  <thead>\n    <tr style=\"text-align: right;\">\n      <th></th>\n      <th>userId</th>\n      <th>movieId</th>\n      <th>rating</th>\n    </tr>\n  </thead>\n  <tbody>\n    <tr>\n      <th>0</th>\n      <td>1</td>\n      <td>1</td>\n      <td>4.0</td>\n    </tr>\n    <tr>\n      <th>1</th>\n      <td>1</td>\n      <td>3</td>\n      <td>4.0</td>\n    </tr>\n    <tr>\n      <th>2</th>\n      <td>1</td>\n      <td>6</td>\n      <td>4.0</td>\n    </tr>\n    <tr>\n      <th>3</th>\n      <td>1</td>\n      <td>47</td>\n      <td>5.0</td>\n    </tr>\n    <tr>\n      <th>4</th>\n      <td>1</td>\n      <td>50</td>\n      <td>5.0</td>\n    </tr>\n  </tbody>\n</table>\n</div>"
     },
     "execution_count": 4,
     "metadata": {},
     "output_type": "execute_result"
    }
   ],
   "source": [
    "df.drop('timestamp', axis=1, inplace=True)\n",
    "df.head()"
   ],
   "metadata": {
    "collapsed": false,
    "pycharm": {
     "name": "#%%\n"
    }
   }
  },
  {
   "cell_type": "code",
   "execution_count": 5,
   "outputs": [
    {
     "data": {
      "text/plain": "userId     0\nmovieId    0\nrating     0\ndtype: int64"
     },
     "execution_count": 5,
     "metadata": {},
     "output_type": "execute_result"
    }
   ],
   "source": [
    "df.isna().sum()"
   ],
   "metadata": {
    "collapsed": false,
    "pycharm": {
     "name": "#%%\n"
    }
   }
  },
  {
   "cell_type": "code",
   "execution_count": 6,
   "outputs": [
    {
     "name": "stdout",
     "output_type": "stream",
     "text": [
      "Number of unique movies: 9724\n",
      "Number of unique users: 610\n"
     ]
    }
   ],
   "source": [
    "nmovies = df['movieId'].nunique()\n",
    "nusers = df['userId'].nunique()\n",
    "print(f'Number of unique movies: {nmovies}')\n",
    "print(f'Number of unique users: {nusers}')"
   ],
   "metadata": {
    "collapsed": false,
    "pycharm": {
     "name": "#%%\n"
    }
   }
  },
  {
   "cell_type": "code",
   "execution_count": 7,
   "outputs": [
    {
     "name": "stdout",
     "output_type": "stream",
     "text": [
      "Sparsity: 98.30003169443864\n"
     ]
    }
   ],
   "source": [
    "available_rating = df['rating'].count()\n",
    "total_rating = nmovies*nusers\n",
    "missing_rating = total_rating - available_rating\n",
    "sparsity = (missing_rating/total_rating) * 100\n",
    "print(f'Sparsity: {sparsity}')"
   ],
   "metadata": {
    "collapsed": false,
    "pycharm": {
     "name": "#%%\n"
    }
   }
  },
  {
   "cell_type": "code",
   "execution_count": 8,
   "outputs": [
    {
     "data": {
      "text/plain": "<AxesSubplot:>"
     },
     "execution_count": 8,
     "metadata": {},
     "output_type": "execute_result"
    },
    {
     "data": {
      "text/plain": "<Figure size 432x288 with 1 Axes>",
      "image/png": "[encoded data removed]"
     },
     "metadata": {
      "needs_background": "light"
     },
     "output_type": "display_data"
    }
   ],
   "source": [
    "df['rating'].value_counts().plot(kind='bar')"
   ],
   "metadata": {
    "collapsed": false,
    "pycharm": {
     "name": "#%%\n"
    }
   }
  },
  {
   "cell_type": "code",
   "execution_count": 9,
   "outputs": [],
   "source": [
    "filter_movies = df['movieId'].value_counts() > 3\n",
    "filter_movies = filter_movies[filter_movies].index.tolist()"
   ],
   "metadata": {
    "collapsed": false,
    "pycharm": {
     "name": "#%%\n"
    }
   }
  },
  {
   "cell_type": "code",
   "execution_count": 10,
   "outputs": [],
   "source": [
    "filter_users = df['userId'].value_counts() > 3\n",
    "filter_users = filter_users[filter_users].index.tolist()"
   ],
   "metadata": {
    "collapsed": false,
    "pycharm": {
     "name": "#%%\n"
    }
   }
  },
  {
   "cell_type": "code",
   "execution_count": 11,
   "outputs": [
    {
     "name": "stdout",
     "output_type": "stream",
     "text": [
      "Original shape: (100836, 3)\n",
      "New shape: (92394, 3)\n"
     ]
    }
   ],
   "source": [
    "print(f'Original shape: {df.shape}')\n",
    "df = df[(df['movieId'].isin(filter_movies)) & (df['userId'].isin(filter_users))]\n",
    "print(f'New shape: {df.shape}')"
   ],
   "metadata": {
    "collapsed": false,
    "pycharm": {
     "name": "#%%\n"
    }
   }
  },
  {
   "cell_type": "code",
   "execution_count": 12,
   "outputs": [],
   "source": [
    "cols = ['userId', 'movieId', 'rating']"
   ],
   "metadata": {
    "collapsed": false,
    "pycharm": {
     "name": "#%%\n"
    }
   }
  },
  {
   "cell_type": "code",
   "execution_count": 13,
   "outputs": [],
   "source": [
    "r = Reader(rating_scale = (0.5, 5))\n",
    "data = Dataset.load_from_df(df[cols], r)"
   ],
   "metadata": {
    "collapsed": false,
    "pycharm": {
     "name": "#%%\n"
    }
   }
  },
  {
   "cell_type": "code",
   "execution_count": 14,
   "outputs": [],
   "source": [
    "trainset = data.build_full_trainset()\n",
    "antiset = trainset.build_anti_testset()"
   ],
   "metadata": {
    "collapsed": false,
    "pycharm": {
     "name": "#%%\n"
    }
   }
  },
  {
   "cell_type": "markdown",
   "source": [],
   "metadata": {
    "collapsed": false,
    "pycharm": {
     "name": "#%% md\n"
    }
   }
  },
  {
   "cell_type": "code",
   "execution_count": 15,
   "outputs": [],
   "source": [
    "algo = SVD(n_epochs =30, verbose = True)"
   ],
   "metadata": {
    "collapsed": false,
    "pycharm": {
     "name": "#%%\n"
    }
   }
  },
  {
   "cell_type": "code",
   "execution_count": 16,
   "outputs": [
    {
     "name": "stdout",
     "output_type": "stream",
     "text": [
      "Processing epoch 0\n",
      "Processing epoch 1\n",
      "Processing epoch 2\n",
      "Processing epoch 3\n",
      "Processing epoch 4\n",
      "Processing epoch 5\n",
      "Processing epoch 6\n",
      "Processing epoch 7\n",
      "Processing epoch 8\n",
      "Processing epoch 9\n",
      "Processing epoch 10\n",
      "Processing epoch 11\n",
      "Processing epoch 12\n",
      "Processing epoch 13\n",
      "Processing epoch 14\n",
      "Processing epoch 15\n",
      "Processing epoch 16\n",
      "Processing epoch 17\n",
      "Processing epoch 18\n",
      "Processing epoch 19\n",
      "Processing epoch 20\n",
      "Processing epoch 21\n",
      "Processing epoch 22\n",
      "Processing epoch 23\n",
      "Processing epoch 24\n",
      "Processing epoch 0\n",
      "Processing epoch 1\n",
      "Processing epoch 2\n",
      "Processing epoch 3\n",
      "Processing epoch 4\n",
      "Processing epoch 5\n",
      "Processing epoch 6\n",
      "Processing epoch 7\n",
      "Processing epoch 8\n",
      "Processing epoch 9\n",
      "Processing epoch 10\n",
      "Processing epoch 11\n",
      "Processing epoch 12\n",
      "Processing epoch 13\n",
      "Processing epoch 14\n",
      "Processing epoch 15\n",
      "Processing epoch 16\n",
      "Processing epoch 17\n",
      "Processing epoch 18\n",
      "Processing epoch 19\n",
      "Processing epoch 20\n",
      "Processing epoch 21\n",
      "Processing epoch 22\n",
      "Processing epoch 23\n",
      "Processing epoch 24\n",
      "Processing epoch 0\n",
      "Processing epoch 1\n",
      "Processing epoch 2\n",
      "Processing epoch 3\n",
      "Processing epoch 4\n",
      "Processing epoch 5\n",
      "Processing epoch 6\n",
      "Processing epoch 7\n",
      "Processing epoch 8\n",
      "Processing epoch 9\n",
      "Processing epoch 10\n",
      "Processing epoch 11\n",
      "Processing epoch 12\n",
      "Processing epoch 13\n",
      "Processing epoch 14\n",
      "Processing epoch 15\n",
      "Processing epoch 16\n",
      "Processing epoch 17\n",
      "Processing epoch 18\n",
      "Processing epoch 19\n",
      "Processing epoch 20\n",
      "Processing epoch 21\n",
      "Processing epoch 22\n",
      "Processing epoch 23\n",
      "Processing epoch 24\n",
      "Processing epoch 0\n",
      "Processing epoch 1\n",
      "Processing epoch 2\n",
      "Processing epoch 3\n",
      "Processing epoch 4\n",
      "Processing epoch 5\n",
      "Processing epoch 6\n",
      "Processing epoch 7\n",
      "Processing epoch 8\n",
      "Processing epoch 9\n",
      "Processing epoch 10\n",
      "Processing epoch 11\n",
      "Processing epoch 12\n",
      "Processing epoch 13\n",
      "Processing epoch 14\n",
      "Processing epoch 15\n",
      "Processing epoch 16\n",
      "Processing epoch 17\n",
      "Processing epoch 18\n",
      "Processing epoch 19\n",
      "Processing epoch 20\n",
      "Processing epoch 21\n",
      "Processing epoch 22\n",
      "Processing epoch 23\n",
      "Processing epoch 24\n",
      "Processing epoch 0\n",
      "Processing epoch 1\n",
      "Processing epoch 2\n",
      "Processing epoch 3\n",
      "Processing epoch 4\n",
      "Processing epoch 5\n",
      "Processing epoch 6\n",
      "Processing epoch 7\n",
      "Processing epoch 8\n",
      "Processing epoch 9\n",
      "Processing epoch 10\n",
      "Processing epoch 11\n",
      "Processing epoch 12\n",
      "Processing epoch 13\n",
      "Processing epoch 14\n",
      "Processing epoch 15\n",
      "Processing epoch 16\n",
      "Processing epoch 17\n",
      "Processing epoch 18\n",
      "Processing epoch 19\n",
      "Processing epoch 20\n",
      "Processing epoch 21\n",
      "Processing epoch 22\n",
      "Processing epoch 23\n",
      "Processing epoch 24\n",
      "Evaluating RMSE, MAE of algorithm SVD on 5 split(s).\n",
      "\n",
      "                  Fold 1  Fold 2  Fold 3  Fold 4  Fold 5  Mean    Std     \n",
      "RMSE (testset)    0.8617  0.8551  0.8547  0.8637  0.8616  0.8594  0.0037  \n",
      "MAE (testset)     0.6600  0.6573  0.6540  0.6613  0.6606  0.6587  0.0027  \n",
      "Fit time          3.58    3.56    3.58    3.56    3.57    3.57    0.01    \n",
      "Test time         0.14    0.08    0.14    0.08    0.14    0.11    0.03    \n",
      ">> Training Done\n"
     ]
    }
   ],
   "source": [
    "cross_validate(algo, data, measures = ['RMSE', 'MAE'], cv=5, verbose= True)\n",
    "print('>> Training Done')"
   ],
   "metadata": {
    "collapsed": false,
    "pycharm": {
     "name": "#%%\n"
    }
   }
  },
  {
   "cell_type": "code",
   "execution_count": 20,
   "outputs": [
    {
     "data": {
      "text/plain": "Prediction(uid=1, iid=48516, r_ui=3.529119856267723, est=4.914239070736158, details={'was_impossible': False})"
     },
     "execution_count": 20,
     "metadata": {},
     "output_type": "execute_result"
    }
   ],
   "source": [
    "predictions = algo.test(antiset)\n",
    "predictions[5]"
   ],
   "metadata": {
    "collapsed": false,
    "pycharm": {
     "name": "#%%\n"
    }
   }
  },
  {
   "cell_type": "code",
   "execution_count": 21,
   "outputs": [
    {
     "name": "stdout",
     "output_type": "stream",
     "text": [
      "1 [318, 720, 1272]\n",
      "2 [1178, 8949, 1104]\n",
      "3 [1267, 55721, 1213]\n",
      "4 [916, 750, 541]\n",
      "5 [750, 899, 1219]\n",
      "6 [5952, 1196, 33166]\n",
      "7 [6874, 177593, 1291]\n",
      "8 [260, 4226, 1235]\n",
      "9 [260, 1197, 296]\n",
      "10 [1225, 1104, 246]\n",
      "11 [750, 1196, 260]\n",
      "12 [50, 223, 356]\n",
      "13 [2028, 750, 1210]\n",
      "14 [1104, 858, 1225]\n",
      "15 [110, 1952, 3347]\n",
      "16 [1225, 908, 1235]\n",
      "17 [3275, 57669, 1104]\n",
      "18 [750, 1230, 246]\n",
      "19 [750, 923, 1204]\n",
      "20 [1197, 8368, 1196]\n",
      "21 [1249, 68237, 933]\n",
      "22 [3328, 55118, 110]\n",
      "23 [79132, 720, 6787]\n",
      "24 [750, 4993, 1213]\n",
      "25 [1197, 1213, 1617]\n",
      "26 [904, 1136, 177593]\n",
      "27 [318, 1104, 1172]\n",
      "28 [1035, 1104, 3703]\n",
      "29 [48780, 1233, 246]\n",
      "30 [356, 1617, 2959]\n",
      "31 [1250, 908, 3730]\n",
      "32 [1221, 2959, 2858]\n",
      "33 [3275, 1248, 4144]\n",
      "34 [908, 1291, 527]\n",
      "35 [1104, 4993, 177593]\n",
      "36 [1104, 260, 2959]\n",
      "37 [904, 2160, 2959]\n",
      "38 [1276, 1225, 60069]\n",
      "39 [318, 4011, 527]\n",
      "40 [260, 2571, 750]\n",
      "41 [1104, 2019, 177593]\n",
      "42 [4226, 750, 1136]\n",
      "43 [6, 101, 223]\n",
      "44 [1213, 1200, 750]\n",
      "45 [2788, 2019, 318]\n",
      "46 [177593, 1197, 1104]\n",
      "47 [1197, 1262, 1249]\n",
      "48 [2959, 260, 318]\n",
      "49 [260, 1213, 1261]\n",
      "50 [1221, 527, 1270]\n",
      "51 [1219, 1617, 904]\n",
      "52 [930, 1225, 1283]\n",
      "53 [6, 50, 110]\n",
      "54 [1104, 1252, 858]\n",
      "55 [1136, 1197, 1223]\n",
      "56 [246, 1204, 1198]\n",
      "57 [4973, 2959, 4226]\n",
      "58 [593, 6711, 8874]\n",
      "59 [1225, 1104, 148626]\n",
      "60 [1104, 1204, 1199]\n",
      "61 [2959, 914, 1104]\n",
      "62 [1252, 2288, 1283]\n",
      "63 [750, 6711, 1247]\n",
      "64 [5618, 1178, 3275]\n",
      "65 [1203, 1200, 48516]\n",
      "66 [1245, 1178, 750]\n",
      "67 [1104, 608, 750]\n",
      "68 [1172, 905, 112290]\n",
      "69 [2959, 741, 48516]\n",
      "70 [904, 4226, 2959]\n",
      "71 [2571, 1148, 593]\n",
      "72 [750, 1148, 6711]\n",
      "73 [912, 1073, 47]\n",
      "74 [2959, 1267, 1104]\n",
      "75 [750, 1235, 3275]\n",
      "76 [5618, 8874, 94959]\n",
      "77 [318, 1193, 1148]\n",
      "78 [1213, 1197, 2329]\n",
      "79 [6874, 177593, 905]\n",
      "80 [1104, 177593, 2019]\n",
      "81 [1104, 1196, 260]\n",
      "82 [750, 5690, 1394]\n",
      "83 [1267, 1148, 3451]\n",
      "84 [750, 3224, 1249]\n",
      "85 [1210, 1291, 2028]\n",
      "86 [5690, 50, 1617]\n",
      "87 [593, 858, 1221]\n",
      "88 [1198, 246, 2160]\n",
      "89 [1212, 8949, 969]\n",
      "90 [1221, 1248, 5618]\n",
      "91 [4011, 7099, 6711]\n",
      "92 [2959, 2028, 1089]\n",
      "93 [608, 1136, 1196]\n",
      "94 [260, 750, 1217]\n",
      "95 [318, 778, 246]\n",
      "96 [778, 91529, 750]\n",
      "97 [1213, 750, 1089]\n",
      "98 [908, 67255, 1225]\n",
      "99 [5952, 1223, 4973]\n",
      "100 [55118, 1267, 48516]\n",
      "101 [1104, 1213, 260]\n",
      "102 [2959, 908, 1197]\n",
      "103 [1104, 2858, 2160]\n",
      "104 [246, 1104, 905]\n",
      "105 [1104, 898, 1237]\n",
      "106 [57669, 5618, 1221]\n",
      "107 [3451, 899, 48780]\n",
      "108 [899, 1197, 1233]\n",
      "109 [750, 2571, 1267]\n",
      "110 [7361, 750, 1213]\n",
      "111 [6787, 94677, 4144]\n",
      "112 [858, 527, 318]\n",
      "113 [475, 318, 898]\n",
      "114 [1267, 750, 246]\n",
      "115 [750, 923, 3213]\n",
      "116 [905, 62, 106642]\n",
      "117 [1221, 1198, 720]\n",
      "118 [750, 318, 1148]\n",
      "119 [1267, 1104, 3451]\n",
      "120 [750, 1267, 2028]\n",
      "121 [2959, 3468, 50]\n",
      "122 [527, 1240, 2028]\n",
      "123 [356, 1198, 778]\n",
      "124 [750, 1104, 1208]\n",
      "125 [1199, 5618, 750]\n",
      "126 [77455, 1250, 260]\n",
      "127 [318, 527, 177593]\n",
      "128 [750, 246, 1267]\n",
      "129 [318, 1213, 177593]\n",
      "130 [50, 1213, 4973]\n",
      "131 [5690, 56782, 1237]\n",
      "132 [1267, 1276, 1247]\n",
      "133 [1213, 908, 1276]\n",
      "134 [1213, 293, 177593]\n",
      "135 [1104, 1252, 58559]\n",
      "136 [1148, 5952, 38061]\n",
      "137 [5690, 1178, 1213]\n",
      "138 [750, 1213, 48516]\n",
      "139 [904, 750, 1213]\n",
      "140 [1243, 1237, 1172]\n",
      "141 [593, 1252, 1089]\n",
      "142 [1104, 750, 1208]\n",
      "143 [1213, 1291, 1198]\n",
      "144 [1223, 1104, 899]\n",
      "145 [593, 2959, 858]\n",
      "146 [720, 296, 593]\n",
      "147 [1617, 778, 296]\n",
      "148 [608, 750, 5690]\n",
      "149 [1208, 2959, 4973]\n",
      "150 [750, 7361, 3681]\n",
      "151 [750, 1213, 318]\n",
      "152 [1104, 3275, 916]\n",
      "153 [1748, 1197, 2360]\n",
      "154 [50, 1197, 318]\n",
      "155 [48780, 1210, 318]\n",
      "156 [8874, 1223, 51255]\n",
      "157 [1222, 356, 56782]\n",
      "158 [5690, 318, 356]\n",
      "159 [3451, 246, 899]\n",
      "160 [4973, 1299, 2300]\n",
      "161 [1267, 1237, 904]\n",
      "162 [750, 1235, 1213]\n",
      "163 [1221, 2329, 5618]\n",
      "164 [1276, 904, 2324]\n",
      "165 [750, 1104, 1222]\n",
      "166 [177593, 112552, 1136]\n",
      "167 [527, 858, 1221]\n",
      "168 [260, 1104, 51255]\n",
      "169 [50, 1213, 904]\n",
      "170 [246, 1104, 1233]\n",
      "171 [50, 356, 527]\n",
      "172 [246, 38061, 1197]\n",
      "173 [318, 177593, 2761]\n",
      "174 [1104, 38061, 1278]\n",
      "175 [296, 2571, 50]\n",
      "176 [527, 720, 1213]\n",
      "177 [4973, 4011, 1230]\n",
      "178 [1104, 246, 750]\n",
      "179 [1213, 1270, 50]\n",
      "180 [4973, 177593, 48516]\n",
      "181 [2078, 1270, 899]\n",
      "182 [106782, 58559, 1234]\n",
      "183 [318, 1225, 6711]\n",
      "184 [110, 1213, 296]\n",
      "185 [527, 177593, 1148]\n",
      "186 [1104, 6016, 1267]\n",
      "187 [158966, 1212, 1104]\n",
      "188 [318, 908, 778]\n",
      "189 [1198, 750, 1213]\n",
      "190 [1104, 750, 1136]\n",
      "191 [58559, 750, 1148]\n",
      "192 [1104, 48780, 1267]\n",
      "193 [4993, 750, 1212]\n",
      "194 [260, 1217, 527]\n",
      "195 [48780, 475, 116897]\n",
      "196 [1104, 1221, 1197]\n",
      "197 [951, 2360, 4973]\n",
      "198 [1280, 63082, 2160]\n",
      "199 [1148, 58559, 909]\n",
      "200 [1288, 858, 1387]\n",
      "201 [527, 904, 1104]\n",
      "202 [904, 527, 122926]\n",
      "203 [8961, 1172, 1217]\n",
      "204 [318, 3275, 50]\n",
      "205 [527, 4995, 48780]\n",
      "206 [527, 1196, 246]\n",
      "207 [2571, 356, 1198]\n",
      "208 [1213, 177593, 48780]\n",
      "209 [260, 1196, 720]\n",
      "210 [318, 1104, 3681]\n",
      "211 [899, 1148, 750]\n",
      "212 [908, 1230, 1213]\n",
      "213 [260, 1212, 750]\n",
      "214 [908, 1198, 112552]\n",
      "215 [1221, 1213, 8874]\n",
      "216 [1217, 2571, 1945]\n",
      "217 [246, 4306, 2788]\n",
      "218 [912, 318, 1267]\n",
      "219 [1247, 1208, 115569]\n",
      "220 [1235, 4993, 899]\n",
      "221 [3275, 1178, 74458]\n",
      "222 [260, 6350, 318]\n",
      "223 [1230, 3468, 1178]\n",
      "224 [50, 318, 3949]\n",
      "225 [1267, 905, 1248]\n",
      "226 [741, 1213, 1261]\n",
      "227 [1104, 1199, 3275]\n",
      "228 [1104, 4973, 750]\n",
      "229 [260, 1104, 898]\n",
      "230 [7361, 105504, 3275]\n",
      "231 [48516, 1104, 1213]\n",
      "232 [4011, 905, 1104]\n",
      "233 [1213, 5618, 1197]\n",
      "234 [177593, 1197, 1267]\n",
      "235 [260, 1235, 1210]\n",
      "236 [296, 858, 1221]\n",
      "237 [1104, 1197, 3681]\n",
      "238 [750, 3451, 356]\n",
      "239 [2019, 5618, 3703]\n",
      "240 [1267, 1104, 48780]\n",
      "241 [177593, 7153, 3213]\n",
      "242 [1222, 162, 750]\n",
      "243 [1213, 318, 162]\n",
      "244 [1206, 296, 858]\n",
      "245 [1213, 318, 905]\n",
      "246 [1267, 3578, 1104]\n",
      "247 [866, 1148, 3451]\n",
      "248 [904, 1213, 1237]\n",
      "249 [1252, 1104, 1278]\n",
      "250 [1198, 1208, 2858]\n",
      "251 [50, 110, 4011]\n",
      "252 [1104, 50, 1221]\n",
      "253 [904, 1223, 750]\n",
      "254 [750, 1104, 177593]\n",
      "255 [318, 89745, 1196]\n",
      "256 [1172, 356, 899]\n",
      "257 [356, 318, 3703]\n",
      "258 [2858, 296, 54997]\n",
      "259 [4878, 904, 1172]\n",
      "260 [593, 1704, 1213]\n",
      "261 [3275, 541, 1208]\n",
      "262 [1212, 6350, 2324]\n",
      "263 [1198, 2959, 1248]\n",
      "264 [1213, 1197, 1270]\n",
      "265 [1197, 7153, 79132]\n",
      "266 [55820, 750, 899]\n",
      "267 [1243, 908, 1237]\n",
      "268 [593, 2959, 1104]\n",
      "269 [593, 318, 4011]\n",
      "270 [750, 1198, 527]\n",
      "271 [318, 112552, 7361]\n",
      "272 [1213, 1237, 1104]\n",
      "273 [1199, 2959, 3730]\n",
      "274 [3030, 1104, 1223]\n",
      "275 [5690, 89745, 1250]\n",
      "276 [50, 110, 296]\n",
      "277 [1213, 4973, 750]\n",
      "278 [3275, 356, 1617]\n",
      "279 [3275, 1223, 1104]\n",
      "280 [2959, 912, 858]\n",
      "281 [318, 527, 260]\n",
      "282 [904, 177593, 1197]\n",
      "283 [1222, 246, 1198]\n",
      "284 [1104, 105504, 1028]\n",
      "285 [2324, 1221, 593]\n",
      "286 [750, 318, 1230]\n",
      "287 [1221, 1199, 858]\n",
      "288 [1221, 50, 246]\n",
      "289 [1225, 908, 4011]\n",
      "290 [5618, 1248, 4993]\n",
      "291 [2959, 318, 899]\n",
      "292 [1197, 1028, 134130]\n",
      "293 [905, 1270, 318]\n",
      "294 [2959, 924, 1208]\n",
      "295 [527, 4878, 3213]\n",
      "296 [858, 593, 6874]\n",
      "297 [318, 904, 2959]\n",
      "298 [593, 2329, 1080]\n",
      "299 [296, 2959, 858]\n",
      "300 [750, 908, 246]\n",
      "301 [2959, 7099, 1198]\n",
      "302 [1136, 50, 527]\n",
      "303 [750, 8874, 527]\n",
      "304 [5952, 4995, 1148]\n",
      "305 [3000, 1104, 110]\n",
      "306 [318, 527, 904]\n",
      "307 [1080, 57669, 1242]\n",
      "308 [2360, 81834, 3213]\n",
      "309 [778, 1148, 750]\n",
      "310 [356, 6377, 1276]\n",
      "311 [1104, 356, 1086]\n",
      "312 [318, 1136, 296]\n",
      "313 [48780, 1267, 55820]\n",
      "314 [899, 1617, 79132]\n",
      "315 [7361, 1291, 7153]\n",
      "316 [318, 4973, 750]\n",
      "317 [1199, 2160, 541]\n",
      "318 [1104, 1213, 1267]\n",
      "319 [296, 3275, 1204]\n",
      "320 [318, 1213, 296]\n",
      "321 [318, 1213, 7371]\n",
      "322 [1104, 2160, 1201]\n",
      "323 [750, 1248, 5618]\n",
      "324 [4011, 750, 1104]\n",
      "325 [3451, 1266, 58559]\n",
      "326 [899, 1197, 1199]\n",
      "327 [246, 2194, 1233]\n",
      "328 [1199, 541, 1356]\n",
      "329 [38061, 4973, 733]\n",
      "330 [1233, 5690, 4973]\n",
      "331 [1221, 527, 116897]\n",
      "332 [1136, 1252, 1197]\n",
      "333 [4973, 177593, 1197]\n",
      "334 [2019, 899, 1104]\n",
      "335 [1198, 904, 1267]\n",
      "336 [1104, 1213, 1089]\n",
      "337 [457, 593, 1197]\n",
      "338 [1196, 1193, 1215]\n",
      "339 [1089, 1267, 3347]\n",
      "340 [260, 1136, 1197]\n",
      "341 [527, 1196, 7099]\n",
      "342 [1213, 1267, 318]\n",
      "343 [1201, 1261, 750]\n",
      "344 [1097, 1276, 8636]\n",
      "345 [318, 908, 1172]\n",
      "346 [1213, 3468, 1104]\n",
      "347 [750, 177593, 105504]\n",
      "348 [1197, 1198, 7153]\n",
      "349 [318, 778, 1197]\n",
      "350 [899, 1235, 1104]\n",
      "351 [110, 4144, 105504]\n",
      "352 [246, 1199, 57669]\n",
      "353 [2959, 1199, 2324]\n",
      "354 [1212, 908, 1203]\n",
      "355 [50, 858, 1270]\n",
      "356 [1104, 1225, 3451]\n",
      "357 [904, 2019, 5690]\n",
      "358 [912, 4973, 318]\n",
      "359 [1272, 7371, 3275]\n",
      "360 [1233, 5690, 720]\n",
      "361 [112552, 5690, 8949]\n",
      "362 [527, 1270, 541]\n",
      "363 [1237, 899, 608]\n",
      "364 [912, 3275, 1198]\n",
      "365 [1028, 5690, 3468]\n",
      "366 [750, 318, 527]\n",
      "367 [3468, 1214, 6711]\n",
      "368 [2959, 5618, 750]\n",
      "369 [318, 3275, 750]\n",
      "370 [912, 904, 1213]\n",
      "371 [260, 296, 356]\n",
      "372 [2959, 7153, 3508]\n",
      "373 [2571, 1219, 2959]\n",
      "374 [750, 4226, 1200]\n",
      "375 [750, 1291, 4011]\n",
      "376 [1267, 3451, 905]\n",
      "377 [48516, 1136, 7090]\n",
      "378 [750, 1223, 1221]\n",
      "379 [1104, 3275, 899]\n",
      "380 [2858, 48516, 951]\n",
      "381 [177593, 858, 593]\n",
      "382 [6874, 3030, 1136]\n",
      "383 [1213, 1223, 4226]\n",
      "384 [318, 4973, 356]\n",
      "385 [527, 1230, 4011]\n",
      "386 [246, 1213, 1197]\n",
      "387 [58559, 527, 1233]\n",
      "388 [318, 1104, 1196]\n",
      "389 [5690, 1266, 1104]\n",
      "390 [4034, 8949, 1104]\n",
      "391 [1262, 2300, 922]\n",
      "392 [750, 912, 858]\n",
      "393 [5816, 1234, 904]\n",
      "394 [296, 750, 1148]\n",
      "395 [44555, 5690, 1248]\n",
      "396 [527, 3578, 1267]\n",
      "397 [318, 246, 1262]\n",
      "398 [1104, 318, 898]\n",
      "399 [1221, 3681, 7371]\n",
      "400 [6874, 1267, 3275]\n",
      "401 [318, 2959, 2324]\n",
      "402 [356, 2959, 1249]\n",
      "403 [2959, 4973, 1104]\n",
      "404 [1104, 2959, 1225]\n",
      "405 [1104, 2160, 1198]\n",
      "406 [1197, 1213, 741]\n",
      "407 [1200, 48516, 750]\n",
      "408 [2028, 1104, 1267]\n",
      "409 [1945, 1203, 1208]\n",
      "410 [246, 1104, 4973]\n",
      "411 [1104, 1210, 899]\n",
      "412 [1270, 260, 356]\n",
      "413 [1278, 79132, 5952]\n",
      "414 [1230, 1258, 3468]\n",
      "415 [912, 112552, 38061]\n",
      "416 [1221, 933, 1267]\n",
      "417 [50, 527, 904]\n",
      "418 [1193, 1212, 1196]\n",
      "419 [6377, 1199, 750]\n",
      "420 [1104, 177593, 3275]\n",
      "421 [2959, 2571, 7099]\n",
      "422 [4973, 1197, 1178]\n",
      "423 [750, 1198, 1235]\n",
      "424 [908, 750, 3275]\n",
      "425 [1104, 1267, 1223]\n",
      "426 [1104, 84152, 1262]\n",
      "427 [318, 2324, 1198]\n",
      "428 [1223, 1248, 5618]\n",
      "429 [1197, 1213, 1291]\n",
      "430 [750, 1213, 1272]\n",
      "431 [1221, 318, 1104]\n",
      "432 [31658, 903, 3275]\n",
      "433 [1104, 4011, 910]\n",
      "434 [1199, 1230, 1252]\n",
      "435 [750, 1104, 1198]\n",
      "436 [1225, 6016, 904]\n",
      "437 [2959, 904, 1104]\n",
      "438 [1222, 78499, 2019]\n",
      "439 [260, 1199, 778]\n",
      "440 [858, 2959, 1198]\n",
      "441 [48516, 1199, 2324]\n",
      "442 [318, 1104, 899]\n",
      "443 [1104, 1028, 177593]\n",
      "444 [908, 904, 1225]\n",
      "445 [908, 89904, 912]\n",
      "446 [318, 1196, 1104]\n",
      "447 [1233, 2324, 177593]\n",
      "448 [527, 318, 1197]\n",
      "449 [1104, 905, 177593]\n",
      "450 [750, 246, 1104]\n",
      "451 [296, 58559, 4226]\n",
      "452 [50, 296, 457]\n",
      "453 [6350, 58559, 2360]\n",
      "454 [1267, 1104, 1198]\n",
      "455 [1197, 908, 1213]\n",
      "456 [1267, 356, 3578]\n",
      "457 [527, 296, 1221]\n",
      "458 [260, 608, 1210]\n",
      "459 [1267, 1213, 50]\n",
      "460 [1104, 2324, 1136]\n",
      "461 [1028, 5690, 4973]\n",
      "462 [1199, 3275, 1203]\n",
      "463 [750, 38061, 1235]\n",
      "464 [904, 1197, 50]\n",
      "465 [296, 1104, 112552]\n",
      "466 [1225, 1374, 1197]\n",
      "467 [246, 1206, 318]\n",
      "468 [3703, 1252, 593]\n",
      "469 [4993, 778, 2959]\n",
      "470 [1104, 908, 246]\n",
      "471 [1210, 1223, 1089]\n",
      "472 [1248, 106920, 1148]\n",
      "473 [296, 1288, 1221]\n",
      "474 [50872, 177593, 1277]\n",
      "475 [356, 1213, 318]\n",
      "476 [1221, 246, 1197]\n",
      "477 [2329, 1249, 50]\n",
      "478 [296, 750, 1104]\n",
      "479 [1270, 741, 215]\n",
      "480 [1250, 177593, 89745]\n",
      "481 [2020, 1223, 318]\n",
      "482 [356, 1197, 3114]\n",
      "483 [1208, 541, 750]\n",
      "484 [1035, 1270, 3681]\n",
      "485 [1197, 608, 1198]\n",
      "486 [750, 1233, 1148]\n",
      "487 [527, 5690, 7099]\n",
      "488 [177593, 7099, 4011]\n",
      "489 [1223, 778, 5690]\n",
      "490 [318, 50, 1673]\n",
      "491 [1197, 904, 1104]\n",
      "492 [1262, 1104, 1276]\n",
      "493 [2959, 44555, 4973]\n",
      "494 [527, 50, 1246]\n",
      "495 [908, 1250, 293]\n",
      "496 [1104, 2959, 318]\n",
      "497 [2160, 1104, 56782]\n",
      "498 [1249, 246, 1233]\n",
      "499 [318, 1235, 1262]\n",
      "500 [912, 904, 1197]\n",
      "501 [1617, 1233, 904]\n",
      "502 [527, 750, 1221]\n",
      "503 [930, 912, 5225]\n",
      "504 [318, 858, 1208]\n",
      "505 [1104, 904, 2160]\n",
      "506 [750, 1267, 260]\n",
      "507 [912, 318, 260]\n",
      "508 [50, 1267, 1242]\n",
      "509 [177593, 1221, 48516]\n",
      "510 [1719, 356, 44555]\n",
      "511 [541, 110, 1208]\n",
      "512 [4973, 904, 112552]\n",
      "513 [1394, 356, 1208]\n",
      "514 [1221, 7361, 177593]\n",
      "515 [593, 1197, 1213]\n",
      "516 [177593, 110, 364]\n",
      "517 [1278, 1104, 6350]\n",
      "518 [318, 48516, 741]\n",
      "519 [7361, 1172, 2571]\n",
      "520 [50, 48516, 593]\n",
      "521 [1198, 5690, 296]\n",
      "522 [1673, 4979, 1283]\n",
      "523 [110, 260, 296]\n",
      "524 [1199, 720, 56782]\n",
      "525 [904, 1276, 177593]\n",
      "526 [1213, 1178, 750]\n",
      "527 [2959, 177593, 2571]\n",
      "528 [318, 1203, 2324]\n",
      "529 [1223, 6874, 778]\n",
      "530 [1197, 1198, 38061]\n",
      "531 [1213, 49272, 904]\n",
      "532 [1235, 4973, 5618]\n",
      "533 [50, 750, 6711]\n",
      "534 [1213, 8949, 1237]\n",
      "535 [1197, 4226, 1104]\n",
      "536 [3451, 7361, 8874]\n",
      "537 [8949, 1267, 914]\n",
      "538 [356, 2959, 318]\n",
      "539 [750, 1222, 778]\n",
      "540 [318, 1197, 1261]\n",
      "541 [260, 1210, 4973]\n",
      "542 [1148, 1198, 904]\n",
      "543 [50, 457, 480]\n",
      "544 [318, 1276, 608]\n",
      "545 [318, 260, 1196]\n",
      "546 [110, 260, 48780]\n",
      "547 [1104, 1278, 38061]\n",
      "548 [1213, 296, 1199]\n",
      "549 [1104, 4973, 3468]\n",
      "550 [50, 6711, 260]\n",
      "551 [1104, 1267, 3275]\n",
      "552 [2858, 858, 260]\n",
      "553 [4973, 1223, 1235]\n",
      "554 [50, 4878, 47]\n",
      "555 [4226, 4973, 79132]\n",
      "556 [1104, 904, 1237]\n",
      "557 [904, 5690, 50]\n",
      "558 [318, 904, 1104]\n",
      "559 [57669, 1148, 1104]\n",
      "560 [750, 1213, 3275]\n",
      "561 [541, 750, 1136]\n",
      "562 [1198, 1148, 750]\n",
      "563 [318, 1210, 1213]\n",
      "564 [260, 1210, 1261]\n",
      "565 [1196, 7153, 5952]\n",
      "566 [177593, 3275, 48516]\n",
      "567 [296, 904, 2288]\n",
      "568 [318, 51931, 750]\n",
      "569 [1221, 1197, 5618]\n",
      "570 [1235, 1266, 1104]\n",
      "571 [750, 296, 1283]\n",
      "572 [7438, 50, 1201]\n",
      "573 [750, 1222, 541]\n",
      "574 [177593, 899, 246]\n",
      "575 [1387, 750, 57669]\n",
      "576 [110, 318, 1193]\n",
      "577 [4011, 778, 177593]\n",
      "578 [50, 110, 260]\n",
      "579 [1276, 1387, 1104]\n",
      "580 [1215, 2324, 111759]\n",
      "581 [1104, 5618, 1213]\n",
      "582 [318, 1104, 1199]\n",
      "583 [1104, 2360, 112552]\n",
      "584 [50, 318, 31658]\n",
      "585 [2324, 1148, 2571]\n",
      "586 [1213, 1288, 750]\n",
      "587 [1242, 246, 5690]\n",
      "588 [2959, 858, 7099]\n",
      "589 [2571, 1198, 745]\n",
      "590 [1104, 4973, 5618]\n",
      "591 [318, 589, 1172]\n",
      "592 [1196, 1104, 1197]\n",
      "593 [745, 589, 1207]\n",
      "594 [356, 1127, 1198]\n",
      "595 [750, 58559, 1617]\n",
      "596 [750, 1193, 1104]\n",
      "597 [296, 2571, 3147]\n",
      "598 [112552, 1945, 1203]\n",
      "599 [1272, 1288, 1234]\n",
      "600 [1387, 898, 2542]\n",
      "601 [246, 260, 1248]\n",
      "602 [1248, 6711, 750]\n",
      "603 [6016, 4103, 52952]\n",
      "604 [1270, 31658, 7361]\n",
      "605 [318, 905, 5690]\n",
      "606 [1104, 1252, 608]\n",
      "607 [1104, 82459, 3213]\n",
      "608 [111759, 74458, 60069]\n",
      "609 [1237, 50, 2959]\n",
      "610 [1252, 1041, 1244]\n"
     ]
    }
   ],
   "source": [
    "from collections import defaultdict\n",
    "def get_top_n(predictions, n=3):\n",
    "    top_n = defaultdict(list)\n",
    "    for uid, iid, _, est, _ in predictions:\n",
    "        top_n[uid].append((iid, est))\n",
    "\n",
    "    for uid, user_ratings in top_n.items():\n",
    "        user_ratings.sort(key = lambda x: x[1], reverse = True)\n",
    "        top_n[uid] = user_ratings[:n]\n",
    "\n",
    "    return top_n\n",
    "\n",
    "top_n = get_top_n(predictions, n=3)\n",
    "\n",
    "for uid, user_ratings in top_n.items():\n",
    "    print(uid, [iid for (iid, rating) in user_ratings])"
   ],
   "metadata": {
    "collapsed": false,
    "pycharm": {
     "name": "#%%\n"
    }
   }
  }
 ],
 "metadata": {
  "kernelspec": {
   "display_name": "Python 3",
   "language": "python",
   "name": "python3"
  },
  "language_info": {
   "codemirror_mode": {
    "name": "ipython",
    "version": 2
   },
   "file_extension": ".py",
   "mimetype": "text/x-python",
   "name": "python",
   "nbconvert_exporter": "python",
   "pygments_lexer": "ipython2",
   "version": "2.7.6"
  }
 },
 "nbformat": 4,
 "nbformat_minor": 0
}